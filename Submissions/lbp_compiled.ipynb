{
 "cells": [
  {
   "cell_type": "code",
   "execution_count": 1,
   "metadata": {
    "id": "58eea913"
   },
   "outputs": [],
   "source": [
    "import numpy as np\n",
    "import matplotlib.pylab as plt\n",
    "from numpy.lib.stride_tricks import sliding_window_view"
   ]
  },
  {
   "cell_type": "markdown",
   "metadata": {
    "id": "083ae5d1"
   },
   "source": [
    "## Implementing a Function to Compute the Local Binary Pattern\n",
    "\n",
    "Local Binary Pattern (LBP) is a simple yet very efficient texture feature commonly used in image processing.\n",
    "\n",
    "<img src=\"../Figures/lbp.png\" width=\"150\" /> "
   ]
  },
  {
   "cell_type": "markdown",
   "metadata": {
    "id": "23e4ff01"
   },
   "source": [
    "\\begin{align}\n",
    "LBP(p) = \\sum_{i=0}^{7} [f(n_i) > f(p)]2^i$\n",
    "\\end{align}"
   ]
  },
  {
   "cell_type": "code",
   "execution_count": 2,
   "metadata": {
    "id": "eSOZUc4yfQ5P"
   },
   "outputs": [],
   "source": [
    "def local_binary_pattern_list_comprehension(img):\n",
    "    neighbors = [(0,2),(1,2),(2,2),\\\n",
    "                 (2,1), (2,0), (1,0),\\\n",
    "                 (0,0),(0,1)]\n",
    "    H,W = img.shape\n",
    "    aux_img = np.zeros((H+2,W+2))\n",
    "    aux_img[1:-1,1:-1] = img\n",
    "    \n",
    "    return sum((aux_img[x:H+x,y:W+y] > img)*2**i for (i,(x,y)) in enumerate(neighbors))"
   ]
  },
  {
   "cell_type": "code",
   "execution_count": 3,
   "metadata": {
    "id": "b5b459b4"
   },
   "outputs": [],
   "source": [
    "def local_binary_pattern_loop(img):\n",
    "    neighbors = [(0,2),(1,2),(2,2),\\\n",
    "                 (2,1), (2,0), (1,0),\\\n",
    "                 (0,0),(0,1)]\n",
    "    H,W = img.shape\n",
    "    aux_img = np.zeros((H+2,W+2))\n",
    "    aux_img[1:-1,1:-1] = img\n",
    "    lbp = np.zeros(img.shape)\n",
    "    for i, (x,y) in enumerate(neighbors):\n",
    "        lbp+= (aux_img[x:H+x,y:W+y] > img)*2**i\n",
    "    return lbp"
   ]
  },
  {
   "cell_type": "code",
   "execution_count": 4,
   "metadata": {},
   "outputs": [],
   "source": [
    "def lbp_sliding_window_view(img):\n",
    "    codebook  = np.array([[[[64,128,1],\\\n",
    "                            [32,0,2],\\\n",
    "                            [16,8,4]]]], dtype = np.uint8)\n",
    "    H,W = img.shape\n",
    "    aux_img = np.zeros((H+2,W+2))\n",
    "    aux_img[1:-1,1:-1] = img\n",
    "    aux_img_view = sliding_window_view(aux_img, (3,3))\n",
    "    lbp = ((aux_img_view > img[:,:,np.newaxis,np.newaxis])*codebook).sum(axis = (2,3))\n",
    "    return lbp"
   ]
  },
  {
   "cell_type": "code",
   "execution_count": 5,
   "metadata": {},
   "outputs": [],
   "source": [
    "from PIL import Image\n",
    "\n",
    "img = np.array(Image.open('../Figures/lena.png').convert('L'))"
   ]
  },
  {
   "cell_type": "code",
   "execution_count": 6,
   "metadata": {},
   "outputs": [
    {
     "name": "stdout",
     "output_type": "stream",
     "text": [
      "8.39 ms ± 414 µs per loop (mean ± std. dev. of 7 runs, 100 loops each)\n"
     ]
    }
   ],
   "source": [
    "%%timeit\n",
    "\n",
    "local_binary_pattern_loop(img)"
   ]
  },
  {
   "cell_type": "code",
   "execution_count": 7,
   "metadata": {},
   "outputs": [
    {
     "name": "stdout",
     "output_type": "stream",
     "text": [
      "24.7 ms ± 1.05 ms per loop (mean ± std. dev. of 7 runs, 10 loops each)\n"
     ]
    }
   ],
   "source": [
    "%%timeit\n",
    "\n",
    "lbp_sliding_window_view(img)"
   ]
  },
  {
   "cell_type": "code",
   "execution_count": 8,
   "metadata": {},
   "outputs": [
    {
     "name": "stdout",
     "output_type": "stream",
     "text": [
      "8.86 ms ± 450 µs per loop (mean ± std. dev. of 7 runs, 100 loops each)\n"
     ]
    }
   ],
   "source": [
    "%%timeit\n",
    "\n",
    "local_binary_pattern_list_comprehension(img)"
   ]
  }
 ],
 "metadata": {
  "colab": {
   "collapsed_sections": [],
   "name": "tutorial02_1_python_sumpy_programming_style.ipynb",
   "provenance": []
  },
  "kernelspec": {
   "display_name": "Python 3",
   "language": "python",
   "name": "python3"
  },
  "language_info": {
   "codemirror_mode": {
    "name": "ipython",
    "version": 3
   },
   "file_extension": ".py",
   "mimetype": "text/x-python",
   "name": "python",
   "nbconvert_exporter": "python",
   "pygments_lexer": "ipython3",
   "version": "3.8.5"
  }
 },
 "nbformat": 4,
 "nbformat_minor": 5
}
