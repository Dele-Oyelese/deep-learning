{
 "cells": [
  {
   "cell_type": "markdown",
   "metadata": {},
   "source": [
    "# Different Approaches to Defining Neural Networks with Keras and TensorFlow\n",
    "\n",
    "[TensorFlow](https://www.tensorflow.org/) 2.0 came with many new exciting updates. One of these updates was full integration with the very popular [Keras API](https://keras.io/) for developing deep learning models. Before TensorFlow 2.0, you had two install TensorfFlow and Keras separately. Now, Keras comes as a submodule of TensorFlow (*i.e.*, tensorflow.keras). We will be using Keras and TensorFlow on the majority of tutorials in this class. There are 3 ways to define Neural Networks with Keras. In this tutorial we will cover these different ways.\n",
    "\n",
    "The learning goals of this tutorial are:\n",
    "    - Introduce the Keras sequential API, functional API and model subclassing methods for defining neural networks;\n",
    "    - Illustrate a simple classiifcation problem using the Iris dataset.\n"
   ]
  },
  {
   "cell_type": "markdown",
   "metadata": {},
   "source": [
    "# Importing Python Libraries \n",
    "\n",
    "If you get an error that a library is not installed, most libraries you can stall on a jupyter notebook by creating a new cell and typing:\n",
    "\n",
    "- *! pip install library_name*\n"
   ]
  },
  {
   "cell_type": "code",
   "execution_count": 1,
   "metadata": {},
   "outputs": [],
   "source": [
    "%matplotlib inline \n",
    "import tensorflow as tf\n",
    "from tensorflow.keras.utils import to_categorical # Function to convert labels to one-hot encoding\n",
    "import pandas as pd  \n",
    "import numpy as np \n",
    "import matplotlib.pyplot as plt \n",
    "\n",
    "from sklearn.datasets import load_iris  # Function for loading the Iris dataset\n",
    "from sklearn.model_selection import train_test_split # Function for splitting the dataset"
   ]
  },
  {
   "cell_type": "markdown",
   "metadata": {},
   "source": [
    "# Data exploration"
   ]
  },
  {
   "cell_type": "code",
   "execution_count": 2,
   "metadata": {},
   "outputs": [],
   "source": [
    "# Load the dataset and return to the defined variable \n",
    "dataset = load_iris()"
   ]
  },
  {
   "cell_type": "code",
   "execution_count": null,
   "metadata": {},
   "outputs": [],
   "source": []
  },
  {
   "cell_type": "code",
   "execution_count": 3,
   "metadata": {},
   "outputs": [],
   "source": [
    "# Load iris data into a DataFrame\n",
    "dframe = pd.DataFrame(dataset.data, columns=dataset.feature_names)\n",
    "# add \"target_label\" column to the dataset and name it \"label\"\n",
    "dframe['labels'] = dataset.target.astype(int) # Labels are represented as integers\n",
    "# use of String label\n",
    "dframe['label_names'] = dframe.labels.replace(dict(enumerate(dataset.target_names)))"
   ]
  },
  {
   "cell_type": "code",
   "execution_count": 4,
   "metadata": {},
   "outputs": [
    {
     "data": {
      "text/html": [
       "<div>\n",
       "<style scoped>\n",
       "    .dataframe tbody tr th:only-of-type {\n",
       "        vertical-align: middle;\n",
       "    }\n",
       "\n",
       "    .dataframe tbody tr th {\n",
       "        vertical-align: top;\n",
       "    }\n",
       "\n",
       "    .dataframe thead th {\n",
       "        text-align: right;\n",
       "    }\n",
       "</style>\n",
       "<table border=\"1\" class=\"dataframe\">\n",
       "  <thead>\n",
       "    <tr style=\"text-align: right;\">\n",
       "      <th></th>\n",
       "      <th>sepal length (cm)</th>\n",
       "      <th>sepal width (cm)</th>\n",
       "      <th>petal length (cm)</th>\n",
       "      <th>petal width (cm)</th>\n",
       "      <th>labels</th>\n",
       "      <th>label_names</th>\n",
       "    </tr>\n",
       "  </thead>\n",
       "  <tbody>\n",
       "    <tr>\n",
       "      <th>0</th>\n",
       "      <td>5.1</td>\n",
       "      <td>3.5</td>\n",
       "      <td>1.4</td>\n",
       "      <td>0.2</td>\n",
       "      <td>0</td>\n",
       "      <td>setosa</td>\n",
       "    </tr>\n",
       "    <tr>\n",
       "      <th>1</th>\n",
       "      <td>4.9</td>\n",
       "      <td>3.0</td>\n",
       "      <td>1.4</td>\n",
       "      <td>0.2</td>\n",
       "      <td>0</td>\n",
       "      <td>setosa</td>\n",
       "    </tr>\n",
       "    <tr>\n",
       "      <th>2</th>\n",
       "      <td>4.7</td>\n",
       "      <td>3.2</td>\n",
       "      <td>1.3</td>\n",
       "      <td>0.2</td>\n",
       "      <td>0</td>\n",
       "      <td>setosa</td>\n",
       "    </tr>\n",
       "    <tr>\n",
       "      <th>3</th>\n",
       "      <td>4.6</td>\n",
       "      <td>3.1</td>\n",
       "      <td>1.5</td>\n",
       "      <td>0.2</td>\n",
       "      <td>0</td>\n",
       "      <td>setosa</td>\n",
       "    </tr>\n",
       "    <tr>\n",
       "      <th>4</th>\n",
       "      <td>5.0</td>\n",
       "      <td>3.6</td>\n",
       "      <td>1.4</td>\n",
       "      <td>0.2</td>\n",
       "      <td>0</td>\n",
       "      <td>setosa</td>\n",
       "    </tr>\n",
       "  </tbody>\n",
       "</table>\n",
       "</div>"
      ],
      "text/plain": [
       "   sepal length (cm)  sepal width (cm)  petal length (cm)  petal width (cm)  \\\n",
       "0                5.1               3.5                1.4               0.2   \n",
       "1                4.9               3.0                1.4               0.2   \n",
       "2                4.7               3.2                1.3               0.2   \n",
       "3                4.6               3.1                1.5               0.2   \n",
       "4                5.0               3.6                1.4               0.2   \n",
       "\n",
       "   labels label_names  \n",
       "0       0      setosa  \n",
       "1       0      setosa  \n",
       "2       0      setosa  \n",
       "3       0      setosa  \n",
       "4       0      setosa  "
      ]
     },
     "execution_count": 4,
     "metadata": {},
     "output_type": "execute_result"
    }
   ],
   "source": [
    "# Prints the 5 first rows/samples of the dataset\n",
    "dframe.head(5)"
   ]
  },
  {
   "cell_type": "code",
   "execution_count": 5,
   "metadata": {},
   "outputs": [
    {
     "data": {
      "text/html": [
       "<div>\n",
       "<style scoped>\n",
       "    .dataframe tbody tr th:only-of-type {\n",
       "        vertical-align: middle;\n",
       "    }\n",
       "\n",
       "    .dataframe tbody tr th {\n",
       "        vertical-align: top;\n",
       "    }\n",
       "\n",
       "    .dataframe thead th {\n",
       "        text-align: right;\n",
       "    }\n",
       "</style>\n",
       "<table border=\"1\" class=\"dataframe\">\n",
       "  <thead>\n",
       "    <tr style=\"text-align: right;\">\n",
       "      <th></th>\n",
       "      <th>sepal length (cm)</th>\n",
       "      <th>sepal width (cm)</th>\n",
       "      <th>petal length (cm)</th>\n",
       "      <th>petal width (cm)</th>\n",
       "      <th>labels</th>\n",
       "    </tr>\n",
       "  </thead>\n",
       "  <tbody>\n",
       "    <tr>\n",
       "      <th>count</th>\n",
       "      <td>150.000000</td>\n",
       "      <td>150.000000</td>\n",
       "      <td>150.000000</td>\n",
       "      <td>150.000000</td>\n",
       "      <td>150.000000</td>\n",
       "    </tr>\n",
       "    <tr>\n",
       "      <th>mean</th>\n",
       "      <td>5.843333</td>\n",
       "      <td>3.057333</td>\n",
       "      <td>3.758000</td>\n",
       "      <td>1.199333</td>\n",
       "      <td>1.000000</td>\n",
       "    </tr>\n",
       "    <tr>\n",
       "      <th>std</th>\n",
       "      <td>0.828066</td>\n",
       "      <td>0.435866</td>\n",
       "      <td>1.765298</td>\n",
       "      <td>0.762238</td>\n",
       "      <td>0.819232</td>\n",
       "    </tr>\n",
       "    <tr>\n",
       "      <th>min</th>\n",
       "      <td>4.300000</td>\n",
       "      <td>2.000000</td>\n",
       "      <td>1.000000</td>\n",
       "      <td>0.100000</td>\n",
       "      <td>0.000000</td>\n",
       "    </tr>\n",
       "    <tr>\n",
       "      <th>25%</th>\n",
       "      <td>5.100000</td>\n",
       "      <td>2.800000</td>\n",
       "      <td>1.600000</td>\n",
       "      <td>0.300000</td>\n",
       "      <td>0.000000</td>\n",
       "    </tr>\n",
       "    <tr>\n",
       "      <th>50%</th>\n",
       "      <td>5.800000</td>\n",
       "      <td>3.000000</td>\n",
       "      <td>4.350000</td>\n",
       "      <td>1.300000</td>\n",
       "      <td>1.000000</td>\n",
       "    </tr>\n",
       "    <tr>\n",
       "      <th>75%</th>\n",
       "      <td>6.400000</td>\n",
       "      <td>3.300000</td>\n",
       "      <td>5.100000</td>\n",
       "      <td>1.800000</td>\n",
       "      <td>2.000000</td>\n",
       "    </tr>\n",
       "    <tr>\n",
       "      <th>max</th>\n",
       "      <td>7.900000</td>\n",
       "      <td>4.400000</td>\n",
       "      <td>6.900000</td>\n",
       "      <td>2.500000</td>\n",
       "      <td>2.000000</td>\n",
       "    </tr>\n",
       "  </tbody>\n",
       "</table>\n",
       "</div>"
      ],
      "text/plain": [
       "       sepal length (cm)  sepal width (cm)  petal length (cm)  \\\n",
       "count         150.000000        150.000000         150.000000   \n",
       "mean            5.843333          3.057333           3.758000   \n",
       "std             0.828066          0.435866           1.765298   \n",
       "min             4.300000          2.000000           1.000000   \n",
       "25%             5.100000          2.800000           1.600000   \n",
       "50%             5.800000          3.000000           4.350000   \n",
       "75%             6.400000          3.300000           5.100000   \n",
       "max             7.900000          4.400000           6.900000   \n",
       "\n",
       "       petal width (cm)      labels  \n",
       "count        150.000000  150.000000  \n",
       "mean           1.199333    1.000000  \n",
       "std            0.762238    0.819232  \n",
       "min            0.100000    0.000000  \n",
       "25%            0.300000    0.000000  \n",
       "50%            1.300000    1.000000  \n",
       "75%            1.800000    2.000000  \n",
       "max            2.500000    2.000000  "
      ]
     },
     "execution_count": 5,
     "metadata": {},
     "output_type": "execute_result"
    }
   ],
   "source": [
    "# Generates a short description of the dataset (missing values, mean values, etc.)\n",
    "dframe.describe()"
   ]
  },
  {
   "cell_type": "markdown",
   "metadata": {},
   "source": [
    "## Train, Validation and Test Sets Split"
   ]
  },
  {
   "cell_type": "code",
   "execution_count": 6,
   "metadata": {},
   "outputs": [],
   "source": [
    "# Extracting the features and labels from the dataset \n",
    "X = np.asarray(dframe[['sepal length (cm)', 'sepal width (cm)', 'petal length (cm)', 'petal width (cm)']])\n",
    "Y = np.asarray(dframe['labels'])\n",
    "\n",
    "# First we will shuffle the samples\n",
    "indexes = np.arange(X.shape[0])\n",
    "np.random.shuffle(indexes)\n",
    "X = X[indexes,:]\n",
    "Y = Y[indexes]\n",
    "\n",
    "# Then, we split our data into train/val/test sets\n",
    "train_split = np.int(0.5*Y.size)\n",
    "val_split = np.int(0.75*Y.size)\n",
    "\n",
    "X_train = X[:train_split,:]\n",
    "Y_train = Y[:train_split]\n",
    "\n",
    "X_val = X[train_split:val_split,:]\n",
    "Y_val = Y[train_split:val_split]\n",
    "\n",
    "X_test = X[val_split:,:]\n",
    "Y_test = Y[val_split:]"
   ]
  },
  {
   "cell_type": "markdown",
   "metadata": {},
   "source": [
    "## Data Normalization"
   ]
  },
  {
   "cell_type": "code",
   "execution_count": 7,
   "metadata": {},
   "outputs": [],
   "source": [
    "# min-max data normalization\n",
    "x_train_min = X_train.min(axis = 0, keepdims = True)\n",
    "x_train_max = X_train.max(axis = 0, keepdims = True)\n",
    "\n",
    "X_train = (X_train - x_train_min)/(x_train_max - x_train_min)\n",
    "X_val = (X_val - x_train_min)/(x_train_max - x_train_min)\n",
    "X_test = (X_test - x_train_min)/(x_train_max - x_train_min)\n",
    "\n",
    "\n",
    "#####################################################################################\n",
    "#Activity suggestion:\n",
    "# 1. Change the min-max normalization above by standardization ((X - mean)/(std))\n",
    "# 2. Don't normalize the data and see what happens\n",
    "####################################################################################"
   ]
  },
  {
   "cell_type": "markdown",
   "metadata": {},
   "source": [
    "## Representing Labels using one-hot-ecoding"
   ]
  },
  {
   "cell_type": "code",
   "execution_count": 8,
   "metadata": {},
   "outputs": [
    {
     "name": "stdout",
     "output_type": "stream",
     "text": [
      "Y_train[:5]:\n",
      "[0 2 1 1 1]\n",
      "\n",
      "Y_oh_train[:5]=\n",
      "[[1. 0. 0.]\n",
      " [0. 0. 1.]\n",
      " [0. 1. 0.]\n",
      " [0. 1. 0.]\n",
      " [0. 1. 0.]]\n"
     ]
    }
   ],
   "source": [
    "k = np.unique(Y).size\n",
    "Y_oh_train = to_categorical(Y_train, k) \n",
    "Y_oh_val = to_categorical(Y_val, k) \n",
    "Y_oh_test = to_categorical(Y_test, k)\n",
    "# Displaying the 5 first elemnts\n",
    "print('Y_train[:5]:')\n",
    "print(Y_train[:5])\n",
    "print('\\nY_oh_train[:5]=')\n",
    "print(Y_oh_train[:5])"
   ]
  },
  {
   "cell_type": "code",
   "execution_count": 9,
   "metadata": {},
   "outputs": [
    {
     "name": "stdout",
     "output_type": "stream",
     "text": [
      "Size of X_train :  (75, 4)\n",
      "Size of X_val :  (37, 4)\n",
      "Size of X_test :  (38, 4)\n"
     ]
    }
   ],
   "source": [
    "print( \"Size of X_train : \" , X_train.shape)\n",
    "print( \"Size of X_val : \" , X_val.shape)\n",
    "print( \"Size of X_test : \" , X_test.shape)"
   ]
  },
  {
   "cell_type": "markdown",
   "metadata": {},
   "source": [
    "## Different Approaches for Defining Neural Networks\n",
    "\n",
    "### 1. The Sequential API"
   ]
  },
  {
   "cell_type": "code",
   "execution_count": 10,
   "metadata": {},
   "outputs": [
    {
     "name": "stdout",
     "output_type": "stream",
     "text": [
      "Model: \"sequential\"\n",
      "_________________________________________________________________\n",
      "Layer (type)                 Output Shape              Param #   \n",
      "=================================================================\n",
      "layer1 (Dense)               (None, 5)                 25        \n",
      "_________________________________________________________________\n",
      "layer2 (Dense)               (None, 10)                60        \n",
      "_________________________________________________________________\n",
      "layer3 (Dense)               (None, 3)                 33        \n",
      "=================================================================\n",
      "Total params: 118\n",
      "Trainable params: 118\n",
      "Non-trainable params: 0\n",
      "_________________________________________________________________\n"
     ]
    }
   ],
   "source": [
    "from tensorflow.keras.models import Sequential \n",
    "# Passing a list of layers to the constructor\n",
    "model = Sequential([\n",
    "    tf.keras.layers.Dense(5, activation='relu', input_shape=(4,) , name = \"layer1\"),\n",
    "    tf.keras.layers.Dense(10, activation='relu' , name = \"layer2\"),\n",
    "    tf.keras.layers.Dense(3, activation='softmax', name = \"layer3\"),\n",
    "])\n",
    "model.summary()"
   ]
  },
  {
   "cell_type": "markdown",
   "metadata": {},
   "source": [
    "### 2. The Functional API"
   ]
  },
  {
   "cell_type": "code",
   "execution_count": 11,
   "metadata": {},
   "outputs": [
    {
     "name": "stdout",
     "output_type": "stream",
     "text": [
      "Model: \"model\"\n",
      "_________________________________________________________________\n",
      "Layer (type)                 Output Shape              Param #   \n",
      "=================================================================\n",
      "input_1 (InputLayer)         [(None, 4)]               0         \n",
      "_________________________________________________________________\n",
      "dense (Dense)                (None, 5)                 25        \n",
      "_________________________________________________________________\n",
      "dense_1 (Dense)              (None, 10)                60        \n",
      "_________________________________________________________________\n",
      "dense_2 (Dense)              (None, 3)                 33        \n",
      "=================================================================\n",
      "Total params: 118\n",
      "Trainable params: 118\n",
      "Non-trainable params: 0\n",
      "_________________________________________________________________\n"
     ]
    }
   ],
   "source": [
    "from tensorflow.keras.models import Model\n",
    "# This returns a tensor\n",
    "inputs = tf.keras.layers.Input(shape=(4,))\n",
    "# A layer instance is callable on a tensor, and returns a tensor\n",
    "x = tf.keras.layers.Dense(5, activation='relu')(inputs)\n",
    "x = tf.keras.layers.Dense(10, activation='relu')(x)\n",
    "outputs = tf.keras.layers.Dense(3, activation='softmax')(x)\n",
    "# This creates a model that includes\n",
    "# the Input layer and three Dense layers\n",
    "model = Model(inputs=inputs, outputs=outputs)\n",
    "model.summary()"
   ]
  },
  {
   "cell_type": "markdown",
   "metadata": {},
   "source": [
    "## 3. Model Subclassing "
   ]
  },
  {
   "cell_type": "code",
   "execution_count": 12,
   "metadata": {},
   "outputs": [
    {
     "name": "stdout",
     "output_type": "stream",
     "text": [
      "Model: \"my_neural_network\"\n",
      "_________________________________________________________________\n",
      "Layer (type)                 Output Shape              Param #   \n",
      "=================================================================\n",
      "dense_3 (Dense)              multiple                  25        \n",
      "_________________________________________________________________\n",
      "dense_4 (Dense)              multiple                  60        \n",
      "_________________________________________________________________\n",
      "dense_5 (Dense)              multiple                  33        \n",
      "=================================================================\n",
      "Total params: 118\n",
      "Trainable params: 118\n",
      "Non-trainable params: 0\n",
      "_________________________________________________________________\n"
     ]
    }
   ],
   "source": [
    "class MyNeuralNetwork(Model):\n",
    "    def __init__(self, **kwargs):\n",
    "        super(MyNeuralNetwork, self).__init__(**kwargs)\n",
    "        self.dense1 = tf.keras.layers.Dense(5, activation='relu', )\n",
    "        self.dense2 = tf.keras.layers.Dense(10, activation='relu')\n",
    "        self.dense3 = tf.keras.layers.Dense(3, activation='softmax')\n",
    "        \n",
    "    def call(self, inputs):\n",
    "        x = self.dense1(inputs)\n",
    "        x = self.dense2(x)\n",
    "        return self.dense3(x)\n",
    "model = MyNeuralNetwork()\n",
    "model.build(input_shape = (None,4))\n",
    "model.summary()"
   ]
  },
  {
   "cell_type": "markdown",
   "metadata": {},
   "source": [
    "## Training and Testing the Model"
   ]
  },
  {
   "cell_type": "code",
   "execution_count": 13,
   "metadata": {},
   "outputs": [],
   "source": [
    "model.compile(optimizer='adam',loss='categorical_crossentropy', metrics=['accuracy']) # compiling the model"
   ]
  },
  {
   "cell_type": "code",
   "execution_count": 14,
   "metadata": {},
   "outputs": [
    {
     "name": "stdout",
     "output_type": "stream",
     "text": [
      "Epoch 1/100\n",
      "2/2 [==============================] - 0s 52ms/step - loss: 1.0894 - accuracy: 0.5867 - val_loss: 1.0883 - val_accuracy: 0.4865\n",
      "Epoch 2/100\n",
      "2/2 [==============================] - 0s 9ms/step - loss: 1.0868 - accuracy: 0.6400 - val_loss: 1.0861 - val_accuracy: 0.4865\n",
      "Epoch 3/100\n",
      "2/2 [==============================] - 0s 9ms/step - loss: 1.0843 - accuracy: 0.6400 - val_loss: 1.0840 - val_accuracy: 0.5676\n",
      "Epoch 4/100\n",
      "2/2 [==============================] - 0s 10ms/step - loss: 1.0819 - accuracy: 0.6667 - val_loss: 1.0820 - val_accuracy: 0.5405\n",
      "Epoch 5/100\n",
      "2/2 [==============================] - 0s 9ms/step - loss: 1.0795 - accuracy: 0.6800 - val_loss: 1.0800 - val_accuracy: 0.5405\n",
      "Epoch 6/100\n",
      "2/2 [==============================] - 0s 10ms/step - loss: 1.0771 - accuracy: 0.6533 - val_loss: 1.0780 - val_accuracy: 0.5405\n",
      "Epoch 7/100\n",
      "2/2 [==============================] - 0s 10ms/step - loss: 1.0747 - accuracy: 0.6400 - val_loss: 1.0759 - val_accuracy: 0.5676\n",
      "Epoch 8/100\n",
      "2/2 [==============================] - 0s 11ms/step - loss: 1.0723 - accuracy: 0.6533 - val_loss: 1.0739 - val_accuracy: 0.5676\n",
      "Epoch 9/100\n",
      "2/2 [==============================] - 0s 9ms/step - loss: 1.0697 - accuracy: 0.6667 - val_loss: 1.0718 - val_accuracy: 0.5676\n",
      "Epoch 10/100\n",
      "2/2 [==============================] - 0s 9ms/step - loss: 1.0673 - accuracy: 0.6667 - val_loss: 1.0697 - val_accuracy: 0.5676\n",
      "Epoch 11/100\n",
      "2/2 [==============================] - 0s 9ms/step - loss: 1.0647 - accuracy: 0.6667 - val_loss: 1.0675 - val_accuracy: 0.5676\n",
      "Epoch 12/100\n",
      "2/2 [==============================] - 0s 10ms/step - loss: 1.0622 - accuracy: 0.6667 - val_loss: 1.0653 - val_accuracy: 0.5676\n",
      "Epoch 13/100\n",
      "2/2 [==============================] - 0s 11ms/step - loss: 1.0596 - accuracy: 0.6667 - val_loss: 1.0629 - val_accuracy: 0.5676\n",
      "Epoch 14/100\n",
      "2/2 [==============================] - 0s 9ms/step - loss: 1.0569 - accuracy: 0.6667 - val_loss: 1.0606 - val_accuracy: 0.5676\n",
      "Epoch 15/100\n",
      "2/2 [==============================] - 0s 9ms/step - loss: 1.0544 - accuracy: 0.6667 - val_loss: 1.0583 - val_accuracy: 0.5676\n",
      "Epoch 16/100\n",
      "2/2 [==============================] - 0s 9ms/step - loss: 1.0517 - accuracy: 0.6667 - val_loss: 1.0558 - val_accuracy: 0.5676\n",
      "Epoch 17/100\n",
      "2/2 [==============================] - 0s 9ms/step - loss: 1.0491 - accuracy: 0.6667 - val_loss: 1.0534 - val_accuracy: 0.5676\n",
      "Epoch 18/100\n",
      "2/2 [==============================] - 0s 9ms/step - loss: 1.0462 - accuracy: 0.6667 - val_loss: 1.0509 - val_accuracy: 0.5676\n",
      "Epoch 19/100\n",
      "2/2 [==============================] - 0s 9ms/step - loss: 1.0435 - accuracy: 0.6667 - val_loss: 1.0484 - val_accuracy: 0.5676\n",
      "Epoch 20/100\n",
      "2/2 [==============================] - 0s 9ms/step - loss: 1.0407 - accuracy: 0.6667 - val_loss: 1.0459 - val_accuracy: 0.5676\n",
      "Epoch 21/100\n",
      "2/2 [==============================] - 0s 11ms/step - loss: 1.0378 - accuracy: 0.6800 - val_loss: 1.0433 - val_accuracy: 0.5676\n",
      "Epoch 22/100\n",
      "2/2 [==============================] - 0s 10ms/step - loss: 1.0350 - accuracy: 0.6800 - val_loss: 1.0407 - val_accuracy: 0.5676\n",
      "Epoch 23/100\n",
      "2/2 [==============================] - 0s 12ms/step - loss: 1.0320 - accuracy: 0.6800 - val_loss: 1.0381 - val_accuracy: 0.5676\n",
      "Epoch 24/100\n",
      "2/2 [==============================] - 0s 10ms/step - loss: 1.0291 - accuracy: 0.6800 - val_loss: 1.0355 - val_accuracy: 0.5946\n",
      "Epoch 25/100\n",
      "2/2 [==============================] - 0s 9ms/step - loss: 1.0262 - accuracy: 0.6800 - val_loss: 1.0329 - val_accuracy: 0.5946\n",
      "Epoch 26/100\n",
      "2/2 [==============================] - 0s 9ms/step - loss: 1.0233 - accuracy: 0.6800 - val_loss: 1.0302 - val_accuracy: 0.5946\n",
      "Epoch 27/100\n",
      "2/2 [==============================] - 0s 9ms/step - loss: 1.0206 - accuracy: 0.6933 - val_loss: 1.0276 - val_accuracy: 0.5946\n",
      "Epoch 28/100\n",
      "2/2 [==============================] - 0s 10ms/step - loss: 1.0176 - accuracy: 0.6933 - val_loss: 1.0249 - val_accuracy: 0.5946\n",
      "Epoch 29/100\n",
      "2/2 [==============================] - 0s 11ms/step - loss: 1.0148 - accuracy: 0.6933 - val_loss: 1.0221 - val_accuracy: 0.5946\n",
      "Epoch 30/100\n",
      "2/2 [==============================] - 0s 9ms/step - loss: 1.0120 - accuracy: 0.6933 - val_loss: 1.0194 - val_accuracy: 0.5946\n",
      "Epoch 31/100\n",
      "2/2 [==============================] - 0s 10ms/step - loss: 1.0091 - accuracy: 0.6933 - val_loss: 1.0166 - val_accuracy: 0.5946\n",
      "Epoch 32/100\n",
      "2/2 [==============================] - 0s 11ms/step - loss: 1.0061 - accuracy: 0.6933 - val_loss: 1.0139 - val_accuracy: 0.5946\n",
      "Epoch 33/100\n",
      "2/2 [==============================] - 0s 9ms/step - loss: 1.0031 - accuracy: 0.6933 - val_loss: 1.0110 - val_accuracy: 0.5946\n",
      "Epoch 34/100\n",
      "2/2 [==============================] - 0s 10ms/step - loss: 1.0003 - accuracy: 0.6933 - val_loss: 1.0081 - val_accuracy: 0.5946\n",
      "Epoch 35/100\n",
      "2/2 [==============================] - 0s 10ms/step - loss: 0.9972 - accuracy: 0.6933 - val_loss: 1.0052 - val_accuracy: 0.5946\n",
      "Epoch 36/100\n",
      "2/2 [==============================] - 0s 9ms/step - loss: 0.9941 - accuracy: 0.6933 - val_loss: 1.0022 - val_accuracy: 0.5946\n",
      "Epoch 37/100\n",
      "2/2 [==============================] - 0s 9ms/step - loss: 0.9909 - accuracy: 0.6933 - val_loss: 0.9991 - val_accuracy: 0.5946\n",
      "Epoch 38/100\n",
      "2/2 [==============================] - 0s 9ms/step - loss: 0.9878 - accuracy: 0.6933 - val_loss: 0.9959 - val_accuracy: 0.5946\n",
      "Epoch 39/100\n",
      "2/2 [==============================] - 0s 9ms/step - loss: 0.9845 - accuracy: 0.6933 - val_loss: 0.9927 - val_accuracy: 0.5946\n",
      "Epoch 40/100\n",
      "2/2 [==============================] - 0s 9ms/step - loss: 0.9812 - accuracy: 0.7067 - val_loss: 0.9894 - val_accuracy: 0.5946\n",
      "Epoch 41/100\n",
      "2/2 [==============================] - 0s 9ms/step - loss: 0.9778 - accuracy: 0.7067 - val_loss: 0.9860 - val_accuracy: 0.5946\n",
      "Epoch 42/100\n",
      "2/2 [==============================] - 0s 10ms/step - loss: 0.9743 - accuracy: 0.7067 - val_loss: 0.9826 - val_accuracy: 0.5946\n",
      "Epoch 43/100\n",
      "2/2 [==============================] - 0s 9ms/step - loss: 0.9707 - accuracy: 0.7067 - val_loss: 0.9792 - val_accuracy: 0.5946\n",
      "Epoch 44/100\n",
      "2/2 [==============================] - 0s 9ms/step - loss: 0.9672 - accuracy: 0.7067 - val_loss: 0.9756 - val_accuracy: 0.5946\n",
      "Epoch 45/100\n",
      "2/2 [==============================] - 0s 9ms/step - loss: 0.9636 - accuracy: 0.7067 - val_loss: 0.9720 - val_accuracy: 0.5946\n",
      "Epoch 46/100\n",
      "2/2 [==============================] - 0s 9ms/step - loss: 0.9600 - accuracy: 0.7067 - val_loss: 0.9684 - val_accuracy: 0.5946\n",
      "Epoch 47/100\n",
      "2/2 [==============================] - 0s 9ms/step - loss: 0.9564 - accuracy: 0.7067 - val_loss: 0.9648 - val_accuracy: 0.5946\n",
      "Epoch 48/100\n",
      "2/2 [==============================] - 0s 9ms/step - loss: 0.9525 - accuracy: 0.7067 - val_loss: 0.9613 - val_accuracy: 0.5946\n",
      "Epoch 49/100\n",
      "2/2 [==============================] - 0s 9ms/step - loss: 0.9486 - accuracy: 0.7067 - val_loss: 0.9577 - val_accuracy: 0.5946\n",
      "Epoch 50/100\n",
      "2/2 [==============================] - 0s 9ms/step - loss: 0.9448 - accuracy: 0.7067 - val_loss: 0.9541 - val_accuracy: 0.5946\n",
      "Epoch 51/100\n",
      "2/2 [==============================] - 0s 10ms/step - loss: 0.9408 - accuracy: 0.7067 - val_loss: 0.9505 - val_accuracy: 0.5946\n",
      "Epoch 52/100\n",
      "2/2 [==============================] - 0s 9ms/step - loss: 0.9368 - accuracy: 0.7067 - val_loss: 0.9468 - val_accuracy: 0.5946\n",
      "Epoch 53/100\n",
      "2/2 [==============================] - 0s 9ms/step - loss: 0.9328 - accuracy: 0.7067 - val_loss: 0.9429 - val_accuracy: 0.5946\n",
      "Epoch 54/100\n",
      "2/2 [==============================] - 0s 9ms/step - loss: 0.9287 - accuracy: 0.7067 - val_loss: 0.9390 - val_accuracy: 0.5946\n",
      "Epoch 55/100\n",
      "2/2 [==============================] - 0s 9ms/step - loss: 0.9246 - accuracy: 0.7067 - val_loss: 0.9353 - val_accuracy: 0.5946\n",
      "Epoch 56/100\n",
      "2/2 [==============================] - 0s 9ms/step - loss: 0.9204 - accuracy: 0.7067 - val_loss: 0.9315 - val_accuracy: 0.5946\n",
      "Epoch 57/100\n",
      "2/2 [==============================] - 0s 9ms/step - loss: 0.9163 - accuracy: 0.7067 - val_loss: 0.9277 - val_accuracy: 0.5946\n",
      "Epoch 58/100\n",
      "2/2 [==============================] - 0s 9ms/step - loss: 0.9121 - accuracy: 0.7067 - val_loss: 0.9238 - val_accuracy: 0.5946\n",
      "Epoch 59/100\n"
     ]
    },
    {
     "name": "stdout",
     "output_type": "stream",
     "text": [
      "2/2 [==============================] - 0s 9ms/step - loss: 0.9079 - accuracy: 0.7067 - val_loss: 0.9198 - val_accuracy: 0.5946\n",
      "Epoch 60/100\n",
      "2/2 [==============================] - 0s 10ms/step - loss: 0.9037 - accuracy: 0.7067 - val_loss: 0.9157 - val_accuracy: 0.5946\n",
      "Epoch 61/100\n",
      "2/2 [==============================] - 0s 11ms/step - loss: 0.8995 - accuracy: 0.7067 - val_loss: 0.9117 - val_accuracy: 0.5946\n",
      "Epoch 62/100\n",
      "2/2 [==============================] - 0s 9ms/step - loss: 0.8953 - accuracy: 0.7067 - val_loss: 0.9075 - val_accuracy: 0.5946\n",
      "Epoch 63/100\n",
      "2/2 [==============================] - 0s 9ms/step - loss: 0.8911 - accuracy: 0.7067 - val_loss: 0.9034 - val_accuracy: 0.5946\n",
      "Epoch 64/100\n",
      "2/2 [==============================] - 0s 9ms/step - loss: 0.8869 - accuracy: 0.7067 - val_loss: 0.8992 - val_accuracy: 0.5946\n",
      "Epoch 65/100\n",
      "2/2 [==============================] - 0s 9ms/step - loss: 0.8826 - accuracy: 0.7067 - val_loss: 0.8950 - val_accuracy: 0.5946\n",
      "Epoch 66/100\n",
      "2/2 [==============================] - 0s 9ms/step - loss: 0.8784 - accuracy: 0.7067 - val_loss: 0.8908 - val_accuracy: 0.5946\n",
      "Epoch 67/100\n",
      "2/2 [==============================] - 0s 9ms/step - loss: 0.8741 - accuracy: 0.7067 - val_loss: 0.8866 - val_accuracy: 0.5946\n",
      "Epoch 68/100\n",
      "2/2 [==============================] - 0s 9ms/step - loss: 0.8698 - accuracy: 0.7067 - val_loss: 0.8825 - val_accuracy: 0.5946\n",
      "Epoch 69/100\n",
      "2/2 [==============================] - 0s 9ms/step - loss: 0.8655 - accuracy: 0.7067 - val_loss: 0.8783 - val_accuracy: 0.5946\n",
      "Epoch 70/100\n",
      "2/2 [==============================] - 0s 9ms/step - loss: 0.8611 - accuracy: 0.7067 - val_loss: 0.8742 - val_accuracy: 0.5946\n",
      "Epoch 71/100\n",
      "2/2 [==============================] - 0s 10ms/step - loss: 0.8568 - accuracy: 0.7067 - val_loss: 0.8701 - val_accuracy: 0.5946\n",
      "Epoch 72/100\n",
      "2/2 [==============================] - 0s 9ms/step - loss: 0.8525 - accuracy: 0.7067 - val_loss: 0.8660 - val_accuracy: 0.5946\n",
      "Epoch 73/100\n",
      "2/2 [==============================] - 0s 9ms/step - loss: 0.8481 - accuracy: 0.7067 - val_loss: 0.8617 - val_accuracy: 0.5946\n",
      "Epoch 74/100\n",
      "2/2 [==============================] - 0s 8ms/step - loss: 0.8438 - accuracy: 0.7067 - val_loss: 0.8572 - val_accuracy: 0.5946\n",
      "Epoch 75/100\n",
      "2/2 [==============================] - 0s 9ms/step - loss: 0.8395 - accuracy: 0.7067 - val_loss: 0.8527 - val_accuracy: 0.5946\n",
      "Epoch 76/100\n",
      "2/2 [==============================] - 0s 9ms/step - loss: 0.8352 - accuracy: 0.7067 - val_loss: 0.8483 - val_accuracy: 0.5946\n",
      "Epoch 77/100\n",
      "2/2 [==============================] - 0s 9ms/step - loss: 0.8309 - accuracy: 0.7067 - val_loss: 0.8438 - val_accuracy: 0.5946\n",
      "Epoch 78/100\n",
      "2/2 [==============================] - 0s 9ms/step - loss: 0.8267 - accuracy: 0.7067 - val_loss: 0.8394 - val_accuracy: 0.5946\n",
      "Epoch 79/100\n",
      "2/2 [==============================] - 0s 9ms/step - loss: 0.8224 - accuracy: 0.7067 - val_loss: 0.8352 - val_accuracy: 0.5946\n",
      "Epoch 80/100\n",
      "2/2 [==============================] - 0s 10ms/step - loss: 0.8182 - accuracy: 0.7067 - val_loss: 0.8312 - val_accuracy: 0.5946\n",
      "Epoch 81/100\n",
      "2/2 [==============================] - 0s 9ms/step - loss: 0.8140 - accuracy: 0.7067 - val_loss: 0.8272 - val_accuracy: 0.5946\n",
      "Epoch 82/100\n",
      "2/2 [==============================] - 0s 9ms/step - loss: 0.8098 - accuracy: 0.7067 - val_loss: 0.8232 - val_accuracy: 0.5946\n",
      "Epoch 83/100\n",
      "2/2 [==============================] - 0s 9ms/step - loss: 0.8055 - accuracy: 0.7067 - val_loss: 0.8193 - val_accuracy: 0.5946\n",
      "Epoch 84/100\n",
      "2/2 [==============================] - 0s 9ms/step - loss: 0.8012 - accuracy: 0.7067 - val_loss: 0.8155 - val_accuracy: 0.5946\n",
      "Epoch 85/100\n",
      "2/2 [==============================] - 0s 9ms/step - loss: 0.7969 - accuracy: 0.7067 - val_loss: 0.8119 - val_accuracy: 0.5946\n",
      "Epoch 86/100\n",
      "2/2 [==============================] - 0s 9ms/step - loss: 0.7925 - accuracy: 0.7067 - val_loss: 0.8083 - val_accuracy: 0.5946\n",
      "Epoch 87/100\n",
      "2/2 [==============================] - 0s 9ms/step - loss: 0.7882 - accuracy: 0.7067 - val_loss: 0.8049 - val_accuracy: 0.5946\n",
      "Epoch 88/100\n",
      "2/2 [==============================] - 0s 9ms/step - loss: 0.7842 - accuracy: 0.7067 - val_loss: 0.8014 - val_accuracy: 0.5946\n",
      "Epoch 89/100\n",
      "2/2 [==============================] - 0s 9ms/step - loss: 0.7798 - accuracy: 0.7067 - val_loss: 0.7976 - val_accuracy: 0.5946\n",
      "Epoch 90/100\n",
      "2/2 [==============================] - 0s 10ms/step - loss: 0.7756 - accuracy: 0.7067 - val_loss: 0.7939 - val_accuracy: 0.5946\n",
      "Epoch 91/100\n",
      "2/2 [==============================] - 0s 9ms/step - loss: 0.7714 - accuracy: 0.7067 - val_loss: 0.7903 - val_accuracy: 0.5946\n",
      "Epoch 92/100\n",
      "2/2 [==============================] - 0s 9ms/step - loss: 0.7673 - accuracy: 0.7067 - val_loss: 0.7864 - val_accuracy: 0.5946\n",
      "Epoch 93/100\n",
      "2/2 [==============================] - 0s 9ms/step - loss: 0.7631 - accuracy: 0.7067 - val_loss: 0.7826 - val_accuracy: 0.5946\n",
      "Epoch 94/100\n",
      "2/2 [==============================] - 0s 9ms/step - loss: 0.7590 - accuracy: 0.7067 - val_loss: 0.7786 - val_accuracy: 0.5946\n",
      "Epoch 95/100\n",
      "2/2 [==============================] - 0s 9ms/step - loss: 0.7550 - accuracy: 0.7067 - val_loss: 0.7746 - val_accuracy: 0.5946\n",
      "Epoch 96/100\n",
      "2/2 [==============================] - 0s 9ms/step - loss: 0.7509 - accuracy: 0.7067 - val_loss: 0.7705 - val_accuracy: 0.5946\n",
      "Epoch 97/100\n",
      "2/2 [==============================] - 0s 9ms/step - loss: 0.7468 - accuracy: 0.7067 - val_loss: 0.7664 - val_accuracy: 0.5946\n",
      "Epoch 98/100\n",
      "2/2 [==============================] - 0s 9ms/step - loss: 0.7427 - accuracy: 0.7067 - val_loss: 0.7622 - val_accuracy: 0.5946\n",
      "Epoch 99/100\n",
      "2/2 [==============================] - 0s 10ms/step - loss: 0.7387 - accuracy: 0.7067 - val_loss: 0.7581 - val_accuracy: 0.5946\n",
      "Epoch 100/100\n",
      "2/2 [==============================] - 0s 9ms/step - loss: 0.7347 - accuracy: 0.7067 - val_loss: 0.7538 - val_accuracy: 0.5946\n"
     ]
    }
   ],
   "source": [
    "# training the model \n",
    "history = model.fit(X_train, Y_oh_train, validation_data=(X_val,Y_oh_val),batch_size= 64, epochs= 100)"
   ]
  },
  {
   "cell_type": "code",
   "execution_count": 15,
   "metadata": {},
   "outputs": [
    {
     "name": "stdout",
     "output_type": "stream",
     "text": [
      "Test loss (cross-entropy and accuracy): [0.7332190275192261, 0.6578947305679321]\n",
      "\n",
      "Layer 0\n",
      "Bias:\n",
      " [ 0.05871844 -0.05415914  0.          0.09571169  0.19630301]\n",
      "W:\n",
      " [[ 0.8835386  -0.11277998 -0.36231992  0.51565176 -0.27757087]\n",
      " [-0.07068814  0.0758955  -0.74827933 -0.4451783   0.8301083 ]\n",
      " [-0.07079788 -0.06949404 -0.03165829 -0.1972121  -0.07599818]\n",
      " [-0.10986753  0.2332461  -0.2665686   0.82676184  0.500125  ]]\n",
      "\n",
      "Layer 1\n",
      "Bias:\n",
      " [ 0.          0.          0.20886901  0.          0.21350254 -0.04662605\n",
      "  0.15589198 -0.01322735 -0.02354419  0.1387368 ]\n",
      "W:\n",
      " [[ 0.43204874 -0.11564052  0.41973636 -0.06383687 -0.04576011  0.18128735\n",
      "   0.09667959  0.30494368  0.00688079  0.5848574 ]\n",
      " [-0.42488506 -0.11554247  0.06172587 -0.5398191   0.16599984 -0.25158504\n",
      "  -0.37940076 -0.2660148   0.39334348 -0.24707766]\n",
      " [ 0.24676222 -0.10979092 -0.40657866 -0.5964308  -0.4706716  -0.39031607\n",
      "   0.3974312   0.2556125   0.37127334 -0.5459807 ]\n",
      " [-0.55974483 -0.25390464 -0.5295426  -0.59463865 -0.48650646  0.17808451\n",
      "  -0.730647    0.7280615   0.04709192  0.58165604]\n",
      " [-0.6132412  -0.15847245  0.00653553 -0.2199854   0.19561003 -0.32334244\n",
      "   0.39748093  0.06910196  0.76598305 -0.27940252]]\n",
      "\n",
      "Layer 2\n",
      "Bias:\n",
      " [ 0.03367889  0.02358909 -0.057896  ]\n",
      "W:\n",
      " [[-0.11418957  0.1409539  -0.0886972 ]\n",
      " [-0.63499665  0.6030848   0.38613534]\n",
      " [ 0.8119227  -0.10691978 -0.54634666]\n",
      " [-0.14315253 -0.51694906  0.50233674]\n",
      " [ 0.8014644  -0.10128037 -0.7704919 ]\n",
      " [ 0.19873615  0.35304987  0.04537596]\n",
      " [ 0.769798   -0.9042936  -0.89785814]\n",
      " [-0.8321255   0.61661065  0.22369508]\n",
      " [-0.52615607 -0.78543633 -0.41839215]\n",
      " [ 0.19758423  0.7343169   0.69105095]]\n",
      "\n"
     ]
    },
    {
     "data": {
      "image/png": "[encoded data removed]",
      "text/plain": [
       "<Figure size 432x288 with 1 Axes>"
      ]
     },
     "metadata": {
      "needs_background": "light"
     },
     "output_type": "display_data"
    },
    {
     "data": {
      "image/png": "[encoded data removed]",
      "text/plain": [
       "<Figure size 432x288 with 1 Axes>"
      ]
     },
     "metadata": {
      "needs_background": "light"
     },
     "output_type": "display_data"
    }
   ],
   "source": [
    "loss = model.evaluate(X_test, Y_oh_test, verbose=0)\n",
    "print('Test loss (cross-entropy and accuracy):',loss)\n",
    "print()\n",
    "W = model.get_weights()\n",
    "for ii in range(len(W)//2):\n",
    "    print(\"Layer %d\" %ii)\n",
    "    print('Bias:\\n', W[2*ii + 1])\n",
    "    print('W:\\n', W[2*ii])\n",
    "    print()\n",
    "\n",
    "plt.plot(history.history['loss'], label = \"Train loss\")\n",
    "plt.plot(history.history['val_loss'], label = \"Val loss\")\n",
    "plt.xlabel(\"Epoch (iteration)\")\n",
    "plt.ylabel(\"Loss\")\n",
    "plt.legend()\n",
    "plt.grid()\n",
    "plt.show()\n",
    "\n",
    "\n",
    "plt.plot(history.history['accuracy'], label = \"Train accuarcy\")\n",
    "plt.plot(history.history['val_accuracy'], label = \"Val accuarcy\")\n",
    "plt.xlabel(\"Epoch (iteration)\")\n",
    "plt.ylabel(\"Loss\")\n",
    "plt.legend()\n",
    "plt.grid()\n",
    "plt.show()"
   ]
  },
  {
   "cell_type": "markdown",
   "metadata": {},
   "source": [
    "# References for creating this jupyter notebook \n",
    "\n",
    "1) https://keras.io/guides/functional_api/\n",
    "\n",
    "2) https://keras.io/api/models/sequential/\n",
    "\n",
    "3) https://keras.io/api/models/\n",
    "\n",
    "4) https://towardsdatascience.com/3-ways-to-create-a-machine-learning-model-with-keras-and-tensorflow-2-0-de09323af4d3"
   ]
  },
  {
   "cell_type": "markdown",
   "metadata": {},
   "source": [
    "**Thanks to Kashyap Patel who helped develop this tutorial!**"
   ]
  }
 ],
 "metadata": {
  "kernelspec": {
   "display_name": "Python 3",
   "language": "python",
   "name": "python3"
  },
  "language_info": {
   "codemirror_mode": {
    "name": "ipython",
    "version": 3
   },
   "file_extension": ".py",
   "mimetype": "text/x-python",
   "name": "python",
   "nbconvert_exporter": "python",
   "pygments_lexer": "ipython3",
   "version": "3.6.9"
  }
 },
 "nbformat": 4,
 "nbformat_minor": 4
}
