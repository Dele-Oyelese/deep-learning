{
 "cells": [
  {
   "cell_type": "code",
   "execution_count": 1,
   "metadata": {},
   "outputs": [],
   "source": [
    "!pip install wandb pytorch-lightning -qqq"
   ]
  },
  {
   "cell_type": "code",
   "execution_count": 3,
   "metadata": {},
   "outputs": [],
   "source": [
    "import torch\n",
    "import numpy as np\n",
    "import glob\n",
    "import matplotlib.pylab as plt\n",
    "from PIL import Image\n",
    "from sklearn.model_selection import StratifiedShuffleSplit\n",
    "from torch.utils.data import Dataset\n",
    "from torchvision import transforms, models\n",
    "import torch.nn as nn\n",
    "import torch.optim as optim\n",
    "from torch.optim import lr_scheduler\n",
    "import torch.backends.cudnn as cudnn\n",
    "from torchmetrics import Accuracy\n",
    "\n",
    "import pytorch_lightning as pl\n",
    "from pytorch_lightning.loggers import WandbLogger\n",
    "import wandb"
   ]
  },
  {
   "cell_type": "code",
   "execution_count": null,
   "metadata": {},
   "outputs": [],
   "source": [
    "# functions to show an image\n",
    "def imshow(img,stats):\n",
    "    img = img *stats[1] + stats[0]     # unnormalize\n",
    "    npimg = img.numpy() # convert the tensor back to numpy\n",
    "    plt.imshow(np.transpose(npimg, (1, 2, 0)))\n",
    "    plt.show()\n",
    "\n",
    "# Creating my own torch vision dataset\n",
    "class TorchvisionDataset(Dataset):\n",
    "    def __init__(self, data_dic, transform=None):\n",
    "        self.file_paths = data_dic[\"X\"]\n",
    "        self.labels = data_dic[\"Y\"]\n",
    "        self.transform = transform\n",
    "        \n",
    "    def __len__(self):\n",
    "        return len(self.file_paths)\n",
    "\n",
    "    def __getitem__(self, idx):\n",
    "        label = self.labels[idx]\n",
    "        file_path = self.file_paths[idx]\n",
    "        \n",
    "        # Read an image with PIL\n",
    "        image = Image.open(file_path)\n",
    "\n",
    "        if self.transform:\n",
    "            image = self.transform(image)\n",
    "        return image, label"
   ]
  },
  {
   "cell_type": "code",
   "execution_count": null,
   "metadata": {},
   "outputs": [],
   "source": [
    "print(torch.__version__)\n",
    "# Check if GPU is available\n",
    "device = torch.device('cuda:0' if torch.cuda.is_available() else 'cpu')\n",
    "# Assuming that we are on a CUDA machine, this should print a CUDA device:\n",
    "print(device)"
   ]
  },
  {
   "cell_type": "code",
   "execution_count": null,
   "metadata": {},
   "outputs": [],
   "source": [
    "# Listing the entire dataset\n",
    "images = glob.glob(r\"C:\\\\Users\\\\rober\\\\OneDrive - University of Calgary\\\\Documents\\\\Github\\\\deep-learning\\\\Data\\\\full_dataset2\\\\*\\\\*.jpg\")\n",
    "images = np.array(images)\n",
    "labels = np.array([f.split(\"\\\\\")[-2] for f in images])\n",
    "unique_labels = np.unique(labels)\n",
    "labels_integers = np.zeros(labels.shape, dtype = int)\n",
    "for ii,jj in enumerate(unique_labels):\n",
    "    labels_integers[labels == jj] = ii\n",
    "print(labels_integers)"
   ]
  },
  {
   "cell_type": "code",
   "execution_count": null,
   "metadata": {},
   "outputs": [],
   "source": [
    "batch_size = 32\n",
    "\n",
    "# The first split gives you the test set \n",
    "sss = StratifiedShuffleSplit(n_splits=1, test_size=0.2, random_state = 0)\n",
    "sss.get_n_splits(images, labels_integers)\n",
    "dev_index, test_index = next(sss.split(images, labels_integers))\n",
    "test_set = {\"X\": images[test_index], \"Y\": labels_integers[test_index] }\n",
    "\n",
    "\n",
    "# The second split will give you the train and validation sets\n",
    "dev_images = images[dev_index]\n",
    "dev_labels = labels_integers[dev_index]\n",
    "sss2 = StratifiedShuffleSplit(n_splits=1, test_size=0.2, random_state = 0)\n",
    "sss2.get_n_splits(dev_images, dev_labels)\n",
    "train_index, val_index = next(sss2.split(dev_images, dev_labels))\n",
    "train_set = {\"X\": dev_images[train_index], \"Y\": dev_labels[train_index] }\n",
    "val_set = {\"X\": dev_images[val_index], \"Y\": dev_labels[val_index] }\n",
    "\n",
    "print(\"Train set\", train_set[\"X\"].shape)\n",
    "print(\"Val set\",   val_set[\"X\"].shape)\n",
    "print(\"Test set\",  test_set[\"X\"].shape)"
   ]
  },
  {
   "cell_type": "code",
   "execution_count": null,
   "metadata": {},
   "outputs": [],
   "source": [
    "# Mean and std were computed offline for the training set\n",
    "torchvision_transform = transforms.Compose([\n",
    "    transforms.Resize((256, 256)), \n",
    "    transforms.RandomHorizontalFlip(),\n",
    "    transforms.RandomVerticalFlip()\n",
    "    transforms.ToTensor(),\n",
    "    transforms.Normalize(\n",
    "        mean=[0.4120, 0.3768, 0.3407],\n",
    "        std=[0.2944, 0.2759, 0.2598],\n",
    "    )\n",
    "])\n",
    "\n",
    "torchvision_transform_test = transforms.Compose([\n",
    "    transforms.Resize((256, 256)), \n",
    "    transforms.ToTensor(),\n",
    "    transforms.Normalize(\n",
    "        mean=[0.4120, 0.3768, 0.3407],\n",
    "        std=[0.2944, 0.2759, 0.2598],\n",
    "    )\n",
    "])\n",
    "\n",
    "\n",
    "\n",
    "train_dataset = TorchvisionDataset(train_set, transform= torchvision_transform)\n",
    "val_dataset = TorchvisionDataset(val_set, transform= torchvision_transform)\n",
    "test_dataset = TorchvisionDataset(test_set, transform= torchvision_transform_test)\n",
    "\n",
    "# Get the data loader for the train set\n",
    "trainloader = torch.utils.data.DataLoader(train_dataset, batch_size=batch_size,\n",
    "                                          shuffle=True, num_workers=0)\n",
    "\n",
    "valloader = torch.utils.data.DataLoader(val_dataset, batch_size=batch_size,\n",
    "                                          shuffle=True, num_workers=0)\n",
    "\n",
    "testloader = torch.utils.data.DataLoader(test_dataset, batch_size=batch_size,\n",
    "                                          shuffle=True, num_workers=0)\n",
    "\n"
   ]
  },
  {
   "cell_type": "code",
   "execution_count": null,
   "metadata": {},
   "outputs": [],
   "source": [
    "#based on: https://colab.research.google.com/drive/1smfCw-quyKwxlj69bbsqpZhD75CnBuRh?usp=sharing#scrollTo=qu0xf25aUckF\n",
    "class GarbageModel(pl.LightningModule):\n",
    "    def __init__(self, input_shape, num_classes, learning_rate=2e-4, transfer=False):\n",
    "        super().__init__()\n",
    "\n",
    "         # log hyperparameters\n",
    "        self.save_hyperparameters()\n",
    "        self.learning_rate = learning_rate\n",
    "        self.dim = input_shape\n",
    "        self.num_classes = num_classes\n",
    "        \n",
    "        # transfer learning if pretrained=True\n",
    "        self.feature_extractor = models.resnet18(pretrained=transfer)\n",
    "\n",
    "        if transfer:\n",
    "            # layers are frozen by using eval()\n",
    "            self.feature_extractor.eval()\n",
    "            # freeze params\n",
    "            for param in self.feature_extractor.parameters():\n",
    "                param.requires_grad = False\n",
    "\n",
    "            self.classifier = nn.Linear(self.feature_extractor.fc.in_features, num_classes)\n",
    "\n",
    "            self.criterion = nn.CrossEntropyLoss()\n",
    "            self.accuracy = Accuracy()\n",
    "    \n",
    "    # will be used during inference\n",
    "    def forward(self, x):\n",
    "       x = self.feature_extractor(x)\n",
    "       x = x.view(x.size(0), -1)\n",
    "       x = self.classifier(x)\n",
    "       \n",
    "       return x\n"
   ]
  },
  {
   "cell_type": "code",
   "execution_count": null,
   "metadata": {},
   "outputs": [],
   "source": [
    "#wandb.login()"
   ]
  },
  {
   "cell_type": "code",
   "execution_count": null,
   "metadata": {},
   "outputs": [],
   "source": [
    "model_ft = models.resnet18(pretrained=True)\n",
    "num_ftrs = model_ft.fc.in_features\n",
    "# Here the size of each output sample is set to 2.\n",
    "# Alternatively, it can be generalized to nn.Linear(num_ftrs, len(class_names)).\n",
    "model_ft.fc = nn.Linear(num_ftrs, 4)\n",
    "\n",
    "model_ft = model_ft.to(device)\n",
    "\n",
    "criterion = nn.CrossEntropyLoss()\n",
    "\n",
    "# Observe that all parameters are being optimized\n",
    "optimizer_ft = optim.SGD(model_ft.parameters(), lr=0.001, momentum=0.9)\n",
    "\n",
    "# Decay LR by a factor of 0.1 every 7 epochs\n",
    "exp_lr_scheduler = lr_scheduler.StepLR(optimizer_ft, step_size=7, gamma=0.1)"
   ]
  }
 ],
 "metadata": {
  "kernelspec": {
   "display_name": "pytorch1.11",
   "language": "python",
   "name": "python3"
  },
  "language_info": {
   "codemirror_mode": {
    "name": "ipython",
    "version": 3
   },
   "file_extension": ".py",
   "mimetype": "text/x-python",
   "name": "python",
   "nbconvert_exporter": "python",
   "pygments_lexer": "ipython3",
   "version": "3.10.4"
  },
  "orig_nbformat": 4,
  "vscode": {
   "interpreter": {
    "hash": "249d11310564531dbb0422c65726fbafe5d71a3f15733fe196d56460bed7c227"
   }
  }
 },
 "nbformat": 4,
 "nbformat_minor": 2
}
